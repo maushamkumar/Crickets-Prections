{
 "cells": [
  {
   "cell_type": "code",
   "execution_count": 237,
   "id": "02dea23e-f7c1-4e2c-975d-18fe42ce88ef",
   "metadata": {},
   "outputs": [],
   "source": [
    "import pandas as pd \n",
    "import numpy as np \n",
    "import warnings\n",
    "warnings.filterwarnings('ignore')"
   ]
  },
  {
   "cell_type": "markdown",
   "id": "98c70426-f40a-4b75-aa60-45f7ea893f73",
   "metadata": {},
   "source": [
    "## Importing Libraries\n"
   ]
  },
  {
   "cell_type": "markdown",
   "id": "bd6c294e-2559-45ba-9a9c-e8989ee29558",
   "metadata": {},
   "source": [
    "## Importing Dataset\n",
    "Our data is divided into two CSV file I have to import those 🙂"
   ]
  },
  {
   "cell_type": "code",
   "execution_count": 238,
   "id": "e89ae75a-99ad-41fc-82d1-448c64be2a87",
   "metadata": {},
   "outputs": [],
   "source": [
    "deliveries = pd.read_csv('deliveries.csv')"
   ]
  },
  {
   "cell_type": "code",
   "execution_count": 239,
   "id": "5c78c0d7-42a6-4656-9a41-e196cc8c687d",
   "metadata": {},
   "outputs": [],
   "source": [
    "matches = pd.read_csv('matches.csv')"
   ]
  },
  {
   "cell_type": "markdown",
   "id": "d8a5f7e9-992b-4e75-8690-e4009280a044",
   "metadata": {},
   "source": [
    "## Looking into the data 👀"
   ]
  },
  {
   "cell_type": "code",
   "execution_count": 286,
   "id": "036a71e0-8e44-4329-8e59-fafe9c3044be",
   "metadata": {},
   "outputs": [
    {
     "data": {
      "text/html": [
       "<div>\n",
       "<style scoped>\n",
       "    .dataframe tbody tr th:only-of-type {\n",
       "        vertical-align: middle;\n",
       "    }\n",
       "\n",
       "    .dataframe tbody tr th {\n",
       "        vertical-align: top;\n",
       "    }\n",
       "\n",
       "    .dataframe thead th {\n",
       "        text-align: right;\n",
       "    }\n",
       "</style>\n",
       "<table border=\"1\" class=\"dataframe\">\n",
       "  <thead>\n",
       "    <tr style=\"text-align: right;\">\n",
       "      <th></th>\n",
       "      <th>match_id</th>\n",
       "      <th>inning</th>\n",
       "      <th>batting_team</th>\n",
       "      <th>bowling_team</th>\n",
       "      <th>over</th>\n",
       "      <th>ball</th>\n",
       "      <th>total_runs</th>\n",
       "      <th>is_wicket</th>\n",
       "    </tr>\n",
       "  </thead>\n",
       "  <tbody>\n",
       "    <tr>\n",
       "      <th>0</th>\n",
       "      <td>335982</td>\n",
       "      <td>1</td>\n",
       "      <td>Kolkata Knight Riders</td>\n",
       "      <td>Royal Challengers Bangalore</td>\n",
       "      <td>0</td>\n",
       "      <td>1</td>\n",
       "      <td>1</td>\n",
       "      <td>0</td>\n",
       "    </tr>\n",
       "    <tr>\n",
       "      <th>1</th>\n",
       "      <td>335982</td>\n",
       "      <td>1</td>\n",
       "      <td>Kolkata Knight Riders</td>\n",
       "      <td>Royal Challengers Bangalore</td>\n",
       "      <td>0</td>\n",
       "      <td>2</td>\n",
       "      <td>0</td>\n",
       "      <td>0</td>\n",
       "    </tr>\n",
       "    <tr>\n",
       "      <th>2</th>\n",
       "      <td>335982</td>\n",
       "      <td>1</td>\n",
       "      <td>Kolkata Knight Riders</td>\n",
       "      <td>Royal Challengers Bangalore</td>\n",
       "      <td>0</td>\n",
       "      <td>3</td>\n",
       "      <td>1</td>\n",
       "      <td>0</td>\n",
       "    </tr>\n",
       "    <tr>\n",
       "      <th>3</th>\n",
       "      <td>335982</td>\n",
       "      <td>1</td>\n",
       "      <td>Kolkata Knight Riders</td>\n",
       "      <td>Royal Challengers Bangalore</td>\n",
       "      <td>0</td>\n",
       "      <td>4</td>\n",
       "      <td>0</td>\n",
       "      <td>0</td>\n",
       "    </tr>\n",
       "    <tr>\n",
       "      <th>4</th>\n",
       "      <td>335982</td>\n",
       "      <td>1</td>\n",
       "      <td>Kolkata Knight Riders</td>\n",
       "      <td>Royal Challengers Bangalore</td>\n",
       "      <td>0</td>\n",
       "      <td>5</td>\n",
       "      <td>0</td>\n",
       "      <td>0</td>\n",
       "    </tr>\n",
       "  </tbody>\n",
       "</table>\n",
       "</div>"
      ],
      "text/plain": [
       "   match_id  inning           batting_team                 bowling_team  over  \\\n",
       "0    335982       1  Kolkata Knight Riders  Royal Challengers Bangalore     0   \n",
       "1    335982       1  Kolkata Knight Riders  Royal Challengers Bangalore     0   \n",
       "2    335982       1  Kolkata Knight Riders  Royal Challengers Bangalore     0   \n",
       "3    335982       1  Kolkata Knight Riders  Royal Challengers Bangalore     0   \n",
       "4    335982       1  Kolkata Knight Riders  Royal Challengers Bangalore     0   \n",
       "\n",
       "   ball  total_runs  is_wicket  \n",
       "0     1           1          0  \n",
       "1     2           0          0  \n",
       "2     3           1          0  \n",
       "3     4           0          0  \n",
       "4     5           0          0  "
      ]
     },
     "execution_count": 286,
     "metadata": {},
     "output_type": "execute_result"
    }
   ],
   "source": [
    "deliveries.head()"
   ]
  },
  {
   "cell_type": "code",
   "execution_count": 287,
   "id": "36d5e084-2011-4472-8434-7ded8ebc989b",
   "metadata": {},
   "outputs": [
    {
     "data": {
      "text/html": [
       "<div>\n",
       "<style scoped>\n",
       "    .dataframe tbody tr th:only-of-type {\n",
       "        vertical-align: middle;\n",
       "    }\n",
       "\n",
       "    .dataframe tbody tr th {\n",
       "        vertical-align: top;\n",
       "    }\n",
       "\n",
       "    .dataframe thead th {\n",
       "        text-align: right;\n",
       "    }\n",
       "</style>\n",
       "<table border=\"1\" class=\"dataframe\">\n",
       "  <thead>\n",
       "    <tr style=\"text-align: right;\">\n",
       "      <th></th>\n",
       "      <th>match_id</th>\n",
       "      <th>city</th>\n",
       "      <th>venue</th>\n",
       "      <th>target_runs</th>\n",
       "      <th>super_over</th>\n",
       "      <th>winner</th>\n",
       "    </tr>\n",
       "  </thead>\n",
       "  <tbody>\n",
       "    <tr>\n",
       "      <th>0</th>\n",
       "      <td>335982</td>\n",
       "      <td>Bangalore</td>\n",
       "      <td>M Chinnaswamy Stadium</td>\n",
       "      <td>223.0</td>\n",
       "      <td>N</td>\n",
       "      <td>Kolkata Knight Riders</td>\n",
       "    </tr>\n",
       "    <tr>\n",
       "      <th>1</th>\n",
       "      <td>335983</td>\n",
       "      <td>Chandigarh</td>\n",
       "      <td>Punjab Cricket Association Stadium, Mohali</td>\n",
       "      <td>241.0</td>\n",
       "      <td>N</td>\n",
       "      <td>Chennai Super Kings</td>\n",
       "    </tr>\n",
       "    <tr>\n",
       "      <th>2</th>\n",
       "      <td>335984</td>\n",
       "      <td>Delhi</td>\n",
       "      <td>Feroz Shah Kotla</td>\n",
       "      <td>130.0</td>\n",
       "      <td>N</td>\n",
       "      <td>Delhi Daredevils</td>\n",
       "    </tr>\n",
       "    <tr>\n",
       "      <th>3</th>\n",
       "      <td>335985</td>\n",
       "      <td>Mumbai</td>\n",
       "      <td>Wankhede Stadium</td>\n",
       "      <td>166.0</td>\n",
       "      <td>N</td>\n",
       "      <td>Royal Challengers Bangalore</td>\n",
       "    </tr>\n",
       "    <tr>\n",
       "      <th>4</th>\n",
       "      <td>335986</td>\n",
       "      <td>Kolkata</td>\n",
       "      <td>Eden Gardens</td>\n",
       "      <td>111.0</td>\n",
       "      <td>N</td>\n",
       "      <td>Kolkata Knight Riders</td>\n",
       "    </tr>\n",
       "  </tbody>\n",
       "</table>\n",
       "</div>"
      ],
      "text/plain": [
       "   match_id        city                                       venue  \\\n",
       "0    335982   Bangalore                       M Chinnaswamy Stadium   \n",
       "1    335983  Chandigarh  Punjab Cricket Association Stadium, Mohali   \n",
       "2    335984       Delhi                            Feroz Shah Kotla   \n",
       "3    335985      Mumbai                            Wankhede Stadium   \n",
       "4    335986     Kolkata                                Eden Gardens   \n",
       "\n",
       "   target_runs super_over                       winner  \n",
       "0        223.0          N        Kolkata Knight Riders  \n",
       "1        241.0          N          Chennai Super Kings  \n",
       "2        130.0          N             Delhi Daredevils  \n",
       "3        166.0          N  Royal Challengers Bangalore  \n",
       "4        111.0          N        Kolkata Knight Riders  "
      ]
     },
     "execution_count": 287,
     "metadata": {},
     "output_type": "execute_result"
    }
   ],
   "source": [
    "matches.head()"
   ]
  },
  {
   "cell_type": "markdown",
   "id": "5111f356-6636-4bff-8056-5a46b17b4852",
   "metadata": {},
   "source": [
    "Both of CSV file have a lot of column but for our win probability prediction we just need some of them. What's column useful for my prediction? I am extracting those columns."
   ]
  },
  {
   "cell_type": "code",
   "execution_count": 240,
   "id": "ce6a3edd-b91f-47ac-8bdb-b010988c492f",
   "metadata": {},
   "outputs": [],
   "source": [
    "deliveries = deliveries[['match_id', 'inning', 'batting_team', 'bowling_team', 'over', 'ball', 'total_runs', 'is_wicket']]"
   ]
  },
  {
   "cell_type": "code",
   "execution_count": 241,
   "id": "827ff5f7-e502-44a8-a645-30e4be82a099",
   "metadata": {},
   "outputs": [],
   "source": [
    "matches = matches[['id', 'city', 'venue', 'target_runs', 'super_over', 'winner']]"
   ]
  },
  {
   "cell_type": "code",
   "execution_count": 242,
   "id": "8824c784-a200-4cbc-ba3a-3b348137e941",
   "metadata": {},
   "outputs": [],
   "source": [
    "matches.rename(columns={'id' : 'match_id'}, inplace=True)"
   ]
  },
  {
   "cell_type": "code",
   "execution_count": 243,
   "id": "59973291-fc52-4c0c-b553-7965eb7425e6",
   "metadata": {},
   "outputs": [],
   "source": [
    "ipl = matches.merge(deliveries, how = \"inner\", on = 'match_id')"
   ]
  },
  {
   "cell_type": "code",
   "execution_count": 288,
   "id": "78241237-d39d-4148-9e30-5203f9eaddf9",
   "metadata": {},
   "outputs": [
    {
     "data": {
      "text/html": [
       "<div>\n",
       "<style scoped>\n",
       "    .dataframe tbody tr th:only-of-type {\n",
       "        vertical-align: middle;\n",
       "    }\n",
       "\n",
       "    .dataframe tbody tr th {\n",
       "        vertical-align: top;\n",
       "    }\n",
       "\n",
       "    .dataframe thead th {\n",
       "        text-align: right;\n",
       "    }\n",
       "</style>\n",
       "<table border=\"1\" class=\"dataframe\">\n",
       "  <thead>\n",
       "    <tr style=\"text-align: right;\">\n",
       "      <th></th>\n",
       "      <th>match_id</th>\n",
       "      <th>city</th>\n",
       "      <th>venue</th>\n",
       "      <th>target_runs</th>\n",
       "      <th>super_over</th>\n",
       "      <th>winner</th>\n",
       "      <th>inning</th>\n",
       "      <th>batting_team</th>\n",
       "      <th>bowling_team</th>\n",
       "      <th>over</th>\n",
       "      <th>...</th>\n",
       "      <th>total_runs</th>\n",
       "      <th>wickets_out</th>\n",
       "      <th>current_score</th>\n",
       "      <th>over_completed</th>\n",
       "      <th>run_left</th>\n",
       "      <th>wickets_left</th>\n",
       "      <th>ball_left</th>\n",
       "      <th>result</th>\n",
       "      <th>crr</th>\n",
       "      <th>rrr</th>\n",
       "    </tr>\n",
       "  </thead>\n",
       "  <tbody>\n",
       "    <tr>\n",
       "      <th>124</th>\n",
       "      <td>335982</td>\n",
       "      <td>Bangalore</td>\n",
       "      <td>M Chinnaswamy Stadium</td>\n",
       "      <td>223.0</td>\n",
       "      <td>N</td>\n",
       "      <td>Kolkata Knight Riders</td>\n",
       "      <td>2</td>\n",
       "      <td>Royal Challengers Bengaluru</td>\n",
       "      <td>Kolkata Knight Riders</td>\n",
       "      <td>0</td>\n",
       "      <td>...</td>\n",
       "      <td>1</td>\n",
       "      <td>0</td>\n",
       "      <td>1</td>\n",
       "      <td>20</td>\n",
       "      <td>222.0</td>\n",
       "      <td>10</td>\n",
       "      <td>119</td>\n",
       "      <td>0</td>\n",
       "      <td>6.0</td>\n",
       "      <td>11.193277</td>\n",
       "    </tr>\n",
       "    <tr>\n",
       "      <th>125</th>\n",
       "      <td>335982</td>\n",
       "      <td>Bangalore</td>\n",
       "      <td>M Chinnaswamy Stadium</td>\n",
       "      <td>223.0</td>\n",
       "      <td>N</td>\n",
       "      <td>Kolkata Knight Riders</td>\n",
       "      <td>2</td>\n",
       "      <td>Royal Challengers Bengaluru</td>\n",
       "      <td>Kolkata Knight Riders</td>\n",
       "      <td>0</td>\n",
       "      <td>...</td>\n",
       "      <td>1</td>\n",
       "      <td>0</td>\n",
       "      <td>2</td>\n",
       "      <td>20</td>\n",
       "      <td>221.0</td>\n",
       "      <td>10</td>\n",
       "      <td>118</td>\n",
       "      <td>0</td>\n",
       "      <td>6.0</td>\n",
       "      <td>11.237288</td>\n",
       "    </tr>\n",
       "    <tr>\n",
       "      <th>126</th>\n",
       "      <td>335982</td>\n",
       "      <td>Bangalore</td>\n",
       "      <td>M Chinnaswamy Stadium</td>\n",
       "      <td>223.0</td>\n",
       "      <td>N</td>\n",
       "      <td>Kolkata Knight Riders</td>\n",
       "      <td>2</td>\n",
       "      <td>Royal Challengers Bengaluru</td>\n",
       "      <td>Kolkata Knight Riders</td>\n",
       "      <td>0</td>\n",
       "      <td>...</td>\n",
       "      <td>0</td>\n",
       "      <td>0</td>\n",
       "      <td>2</td>\n",
       "      <td>20</td>\n",
       "      <td>221.0</td>\n",
       "      <td>10</td>\n",
       "      <td>117</td>\n",
       "      <td>0</td>\n",
       "      <td>4.0</td>\n",
       "      <td>11.333333</td>\n",
       "    </tr>\n",
       "    <tr>\n",
       "      <th>127</th>\n",
       "      <td>335982</td>\n",
       "      <td>Bangalore</td>\n",
       "      <td>M Chinnaswamy Stadium</td>\n",
       "      <td>223.0</td>\n",
       "      <td>N</td>\n",
       "      <td>Kolkata Knight Riders</td>\n",
       "      <td>2</td>\n",
       "      <td>Royal Challengers Bengaluru</td>\n",
       "      <td>Kolkata Knight Riders</td>\n",
       "      <td>0</td>\n",
       "      <td>...</td>\n",
       "      <td>1</td>\n",
       "      <td>0</td>\n",
       "      <td>3</td>\n",
       "      <td>20</td>\n",
       "      <td>220.0</td>\n",
       "      <td>10</td>\n",
       "      <td>116</td>\n",
       "      <td>0</td>\n",
       "      <td>4.5</td>\n",
       "      <td>11.379310</td>\n",
       "    </tr>\n",
       "    <tr>\n",
       "      <th>128</th>\n",
       "      <td>335982</td>\n",
       "      <td>Bangalore</td>\n",
       "      <td>M Chinnaswamy Stadium</td>\n",
       "      <td>223.0</td>\n",
       "      <td>N</td>\n",
       "      <td>Kolkata Knight Riders</td>\n",
       "      <td>2</td>\n",
       "      <td>Royal Challengers Bengaluru</td>\n",
       "      <td>Kolkata Knight Riders</td>\n",
       "      <td>0</td>\n",
       "      <td>...</td>\n",
       "      <td>1</td>\n",
       "      <td>0</td>\n",
       "      <td>4</td>\n",
       "      <td>20</td>\n",
       "      <td>219.0</td>\n",
       "      <td>10</td>\n",
       "      <td>115</td>\n",
       "      <td>0</td>\n",
       "      <td>4.8</td>\n",
       "      <td>11.426087</td>\n",
       "    </tr>\n",
       "  </tbody>\n",
       "</table>\n",
       "<p>5 rows × 21 columns</p>\n",
       "</div>"
      ],
      "text/plain": [
       "     match_id       city                  venue  target_runs super_over  \\\n",
       "124    335982  Bangalore  M Chinnaswamy Stadium        223.0          N   \n",
       "125    335982  Bangalore  M Chinnaswamy Stadium        223.0          N   \n",
       "126    335982  Bangalore  M Chinnaswamy Stadium        223.0          N   \n",
       "127    335982  Bangalore  M Chinnaswamy Stadium        223.0          N   \n",
       "128    335982  Bangalore  M Chinnaswamy Stadium        223.0          N   \n",
       "\n",
       "                    winner  inning                 batting_team  \\\n",
       "124  Kolkata Knight Riders       2  Royal Challengers Bengaluru   \n",
       "125  Kolkata Knight Riders       2  Royal Challengers Bengaluru   \n",
       "126  Kolkata Knight Riders       2  Royal Challengers Bengaluru   \n",
       "127  Kolkata Knight Riders       2  Royal Challengers Bengaluru   \n",
       "128  Kolkata Knight Riders       2  Royal Challengers Bengaluru   \n",
       "\n",
       "              bowling_team  over  ...  total_runs  wickets_out  current_score  \\\n",
       "124  Kolkata Knight Riders     0  ...           1            0              1   \n",
       "125  Kolkata Knight Riders     0  ...           1            0              2   \n",
       "126  Kolkata Knight Riders     0  ...           0            0              2   \n",
       "127  Kolkata Knight Riders     0  ...           1            0              3   \n",
       "128  Kolkata Knight Riders     0  ...           1            0              4   \n",
       "\n",
       "     over_completed  run_left  wickets_left  ball_left  result  crr        rrr  \n",
       "124              20     222.0            10        119       0  6.0  11.193277  \n",
       "125              20     221.0            10        118       0  6.0  11.237288  \n",
       "126              20     221.0            10        117       0  4.0  11.333333  \n",
       "127              20     220.0            10        116       0  4.5  11.379310  \n",
       "128              20     219.0            10        115       0  4.8  11.426087  \n",
       "\n",
       "[5 rows x 21 columns]"
      ]
     },
     "execution_count": 288,
     "metadata": {},
     "output_type": "execute_result"
    }
   ],
   "source": [
    "ipl.head()"
   ]
  },
  {
   "cell_type": "markdown",
   "id": "1c1d583e-8f4c-4126-9d0d-6cb2844e2713",
   "metadata": {},
   "source": [
    "Now I have my excepted data set I store this inside ipl variable.\n",
    "Here is an overview of the data.\n",
    "- **match_id** - A unique value for every match.\n",
    "- **city** - Location of the game\n",
    "- **venue** - Name of the Stadium\n",
    "- **target_runs** - How many runs have been scored by the batting team\n",
    "- **Super_over** - The batting team and bowling team have scored the same or not\n",
    "- **winner** - who won the match\n",
    "- **inning** - 1 for the batting team and 2 for the bowling team\n",
    "- **Over** - How many over have completed out of 20\n",
    "- **total_runs** - How many runs scored in a single ball\n",
    "- **wicket_out** - Someone got out or not\n",
    "- **current_score** - How many runs they have scored after completing of certain over.\n",
    "- **over_completed** - 20 over have got completed.\n",
    "- **run_left** - How many have to score bowling team to win the match?\n",
    "- **wickets_left** - How many wickets they have left out of 10 \n",
    "- **ball_left** - How many ball they to score the given target \n",
    "- **result** - Who won the match\n",
    "- **crr** - what is the current run rate ((runs*6)/ball_left)\n",
    "- **rrr** - what is the require run rate ((runs_left * 6)/ball_left)"
   ]
  },
  {
   "cell_type": "markdown",
   "id": "f70a34ef-42fb-4957-9a15-f3c629a416ef",
   "metadata": {},
   "source": [
    "## Feature Engineering\n",
    "\n",
    "To predict win probability I will only consider the second innings."
   ]
  },
  {
   "cell_type": "code",
   "execution_count": 289,
   "id": "a56d0961-2b26-439a-87d4-9108fe6dc219",
   "metadata": {},
   "outputs": [],
   "source": [
    "ipl = ipl[ipl['inning'] == 2]"
   ]
  },
  {
   "cell_type": "markdown",
   "id": "d9db3578-831b-4cf6-857d-47c7decfa9a1",
   "metadata": {},
   "source": [
    "Take those columns where conduct more than five matches"
   ]
  },
  {
   "cell_type": "code",
   "execution_count": 245,
   "id": "269d9fc6-1a65-43ab-bf53-9c6bfc1e783e",
   "metadata": {},
   "outputs": [],
   "source": [
    "city=ipl['city'].value_counts()[ipl['city'].value_counts() > 600].index.tolist()"
   ]
  },
  {
   "cell_type": "code",
   "execution_count": 246,
   "id": "42a36a3d-047f-4b9d-b471-a6f0eeeca4a5",
   "metadata": {},
   "outputs": [],
   "source": [
    "ipl = ipl[ipl['city'].isin(city)]"
   ]
  },
  {
   "cell_type": "code",
   "execution_count": 247,
   "id": "311f8eda-d6e1-43d5-9dd5-120b12b69fbb",
   "metadata": {},
   "outputs": [
    {
     "data": {
      "text/plain": [
       "array(['Royal Challengers Bangalore', 'Kings XI Punjab',\n",
       "       'Delhi Daredevils', 'Kolkata Knight Riders', 'Rajasthan Royals',\n",
       "       'Mumbai Indians', 'Chennai Super Kings', 'Deccan Chargers',\n",
       "       'Pune Warriors', 'Kochi Tuskers Kerala', 'Sunrisers Hyderabad',\n",
       "       'Rising Pune Supergiants', 'Gujarat Lions',\n",
       "       'Rising Pune Supergiant', 'Delhi Capitals', 'Punjab Kings',\n",
       "       'Gujarat Titans', 'Lucknow Super Giants',\n",
       "       'Royal Challengers Bengaluru'], dtype=object)"
      ]
     },
     "execution_count": 247,
     "metadata": {},
     "output_type": "execute_result"
    }
   ],
   "source": [
    "ipl['batting_team'].unique()"
   ]
  },
  {
   "cell_type": "markdown",
   "id": "5faeabb0-5bd8-4c9f-923c-1a8217cf0aac",
   "metadata": {},
   "source": [
    "Some of the teams have changed their name and those who have played a few matches I will not consider those teams. I will remove those teams and rename the names of those who have changed their name. "
   ]
  },
  {
   "cell_type": "code",
   "execution_count": 248,
   "id": "2804024a-e332-4bf4-a726-4632d8a33d32",
   "metadata": {},
   "outputs": [],
   "source": [
    "ipl['batting_team'] = ipl['batting_team'].replace({\n",
    "    'Kings XI Punjab': 'Punjab Kings',\n",
    "    'Delhi Daredevils': 'Delhi Capitals',\n",
    "    'Royal Challengers Bangalore': 'Royal Challengers Bengaluru'\n",
    "})"
   ]
  },
  {
   "cell_type": "code",
   "execution_count": 249,
   "id": "640e0f41-cc79-45c6-9eae-2d01c74f50e2",
   "metadata": {},
   "outputs": [],
   "source": [
    "teams = ['Royal Challengers Bengaluru', 'Lucknow Super Giants','Gujarat Titans',\n",
    "                                                        'Kolkata Knight Riders', 'Rajasthan Royals', 'Mumbai Indians',\n",
    "                                                        'Chennai Super Kings','Sunrisers Hyderabad','Delhi Capitals','Punjab Kings',]"
   ]
  },
  {
   "cell_type": "code",
   "execution_count": 250,
   "id": "b0407e71-2a99-44c8-b7ee-a3a0865372b5",
   "metadata": {},
   "outputs": [],
   "source": [
    "ipl = ipl[ipl['batting_team'].isin(teams)]\n",
    "ipl = ipl[ipl['bowling_team'].isin(teams)]"
   ]
  },
  {
   "cell_type": "markdown",
   "id": "62ea3c66-0f71-4c97-a050-46d924b99638",
   "metadata": {},
   "source": [
    "Current score after completion of every ball."
   ]
  },
  {
   "cell_type": "code",
   "execution_count": 251,
   "id": "018b5c86-7bde-4d61-8aed-f6dcd352adc9",
   "metadata": {},
   "outputs": [],
   "source": [
    "current_score = ipl.groupby('match_id')['total_runs'].cumsum()"
   ]
  },
  {
   "cell_type": "code",
   "execution_count": 252,
   "id": "10d32ffc-ea87-4bd6-ba64-7747f6d52423",
   "metadata": {},
   "outputs": [],
   "source": [
    "ipl['current_score'] = current_score"
   ]
  },
  {
   "cell_type": "code",
   "execution_count": 253,
   "id": "cc1191c8-b75a-46c0-99cf-bdef8692d240",
   "metadata": {},
   "outputs": [],
   "source": [
    "ipl.rename(columns={'is_wicket' : 'wickets_out'}, inplace=True)"
   ]
  },
  {
   "cell_type": "code",
   "execution_count": 254,
   "id": "e0993e62-9cf6-4702-adfd-b2f961ce5d39",
   "metadata": {},
   "outputs": [],
   "source": [
    "ipl['over_completed'] = 20 - ipl['over']"
   ]
  },
  {
   "cell_type": "code",
   "execution_count": 255,
   "id": "0ac7704b-f94d-4178-a7d6-9ae169a5d3ae",
   "metadata": {},
   "outputs": [],
   "source": [
    "ipl['run_left'] = ipl['target_runs'] - ipl['current_score']"
   ]
  },
  {
   "cell_type": "code",
   "execution_count": 256,
   "id": "98374af7-9ac7-44ac-9f0e-d8002a30c37d",
   "metadata": {},
   "outputs": [],
   "source": [
    "ipl['wickets_out'] = ipl.groupby('match_id')['wickets_out'].cumsum()"
   ]
  },
  {
   "cell_type": "code",
   "execution_count": 257,
   "id": "e7617e52-caa1-4c57-87d8-ce54225e8729",
   "metadata": {},
   "outputs": [],
   "source": [
    "ipl['wickets_left'] = 10 - ipl['wickets_out']"
   ]
  },
  {
   "cell_type": "code",
   "execution_count": 258,
   "id": "f8264216-5283-478a-977b-2ded9ffe70dc",
   "metadata": {},
   "outputs": [],
   "source": [
    "ipl = ipl[ipl['super_over'] == 'N']"
   ]
  },
  {
   "cell_type": "code",
   "execution_count": 259,
   "id": "79280399-0947-45f2-b848-27016d572a5f",
   "metadata": {},
   "outputs": [
    {
     "name": "stdout",
     "output_type": "stream",
     "text": [
      "<class 'pandas.core.frame.DataFrame'>\n",
      "Index: 69739 entries, 124 to 260919\n",
      "Data columns (total 17 columns):\n",
      " #   Column          Non-Null Count  Dtype  \n",
      "---  ------          --------------  -----  \n",
      " 0   match_id        69739 non-null  int64  \n",
      " 1   city            69739 non-null  object \n",
      " 2   venue           69739 non-null  object \n",
      " 3   target_runs     69739 non-null  float64\n",
      " 4   super_over      69739 non-null  object \n",
      " 5   winner          69739 non-null  object \n",
      " 6   inning          69739 non-null  int64  \n",
      " 7   batting_team    69739 non-null  object \n",
      " 8   bowling_team    69739 non-null  object \n",
      " 9   over            69739 non-null  int64  \n",
      " 10  ball            69739 non-null  int64  \n",
      " 11  total_runs      69739 non-null  int64  \n",
      " 12  wickets_out     69739 non-null  int64  \n",
      " 13  current_score   69739 non-null  int64  \n",
      " 14  over_completed  69739 non-null  int64  \n",
      " 15  run_left        69739 non-null  float64\n",
      " 16  wickets_left    69739 non-null  int64  \n",
      "dtypes: float64(2), int64(9), object(6)\n",
      "memory usage: 9.6+ MB\n"
     ]
    }
   ],
   "source": [
    "ipl.info()"
   ]
  },
  {
   "cell_type": "code",
   "execution_count": 260,
   "id": "cefa9a62-b207-46b0-890c-80a2db3104ba",
   "metadata": {},
   "outputs": [],
   "source": [
    "# ipl.dropna(inplace=True)"
   ]
  },
  {
   "cell_type": "code",
   "execution_count": 261,
   "id": "9502f968-7cd0-4f12-a159-3f06556ba6cb",
   "metadata": {},
   "outputs": [],
   "source": [
    "ipl['ball_left'] = 120 - ipl['ball']"
   ]
  },
  {
   "cell_type": "code",
   "execution_count": 262,
   "id": "7c61758a-0ac9-47b9-8b5f-dd0ad5cdcf2a",
   "metadata": {},
   "outputs": [
    {
     "data": {
      "text/plain": [
       "124       20\n",
       "125       20\n",
       "126       20\n",
       "127       20\n",
       "128       20\n",
       "          ..\n",
       "260915    11\n",
       "260916    11\n",
       "260917    10\n",
       "260918    10\n",
       "260919    10\n",
       "Name: over_completed, Length: 69739, dtype: int64"
      ]
     },
     "execution_count": 262,
     "metadata": {},
     "output_type": "execute_result"
    }
   ],
   "source": [
    "ipl['over_completed']"
   ]
  },
  {
   "cell_type": "code",
   "execution_count": 263,
   "id": "fc734601-fab0-4784-a438-ce37d757fed1",
   "metadata": {},
   "outputs": [
    {
     "data": {
      "text/html": [
       "<div>\n",
       "<style scoped>\n",
       "    .dataframe tbody tr th:only-of-type {\n",
       "        vertical-align: middle;\n",
       "    }\n",
       "\n",
       "    .dataframe tbody tr th {\n",
       "        vertical-align: top;\n",
       "    }\n",
       "\n",
       "    .dataframe thead th {\n",
       "        text-align: right;\n",
       "    }\n",
       "</style>\n",
       "<table border=\"1\" class=\"dataframe\">\n",
       "  <thead>\n",
       "    <tr style=\"text-align: right;\">\n",
       "      <th></th>\n",
       "      <th>match_id</th>\n",
       "      <th>city</th>\n",
       "      <th>venue</th>\n",
       "      <th>target_runs</th>\n",
       "      <th>super_over</th>\n",
       "      <th>winner</th>\n",
       "      <th>inning</th>\n",
       "      <th>batting_team</th>\n",
       "      <th>bowling_team</th>\n",
       "      <th>over</th>\n",
       "      <th>ball</th>\n",
       "      <th>total_runs</th>\n",
       "      <th>wickets_out</th>\n",
       "      <th>current_score</th>\n",
       "      <th>over_completed</th>\n",
       "      <th>run_left</th>\n",
       "      <th>wickets_left</th>\n",
       "      <th>ball_left</th>\n",
       "    </tr>\n",
       "  </thead>\n",
       "  <tbody>\n",
       "    <tr>\n",
       "      <th>124</th>\n",
       "      <td>335982</td>\n",
       "      <td>Bangalore</td>\n",
       "      <td>M Chinnaswamy Stadium</td>\n",
       "      <td>223.0</td>\n",
       "      <td>N</td>\n",
       "      <td>Kolkata Knight Riders</td>\n",
       "      <td>2</td>\n",
       "      <td>Royal Challengers Bengaluru</td>\n",
       "      <td>Kolkata Knight Riders</td>\n",
       "      <td>0</td>\n",
       "      <td>1</td>\n",
       "      <td>1</td>\n",
       "      <td>0</td>\n",
       "      <td>1</td>\n",
       "      <td>20</td>\n",
       "      <td>222.0</td>\n",
       "      <td>10</td>\n",
       "      <td>119</td>\n",
       "    </tr>\n",
       "    <tr>\n",
       "      <th>125</th>\n",
       "      <td>335982</td>\n",
       "      <td>Bangalore</td>\n",
       "      <td>M Chinnaswamy Stadium</td>\n",
       "      <td>223.0</td>\n",
       "      <td>N</td>\n",
       "      <td>Kolkata Knight Riders</td>\n",
       "      <td>2</td>\n",
       "      <td>Royal Challengers Bengaluru</td>\n",
       "      <td>Kolkata Knight Riders</td>\n",
       "      <td>0</td>\n",
       "      <td>2</td>\n",
       "      <td>1</td>\n",
       "      <td>0</td>\n",
       "      <td>2</td>\n",
       "      <td>20</td>\n",
       "      <td>221.0</td>\n",
       "      <td>10</td>\n",
       "      <td>118</td>\n",
       "    </tr>\n",
       "    <tr>\n",
       "      <th>126</th>\n",
       "      <td>335982</td>\n",
       "      <td>Bangalore</td>\n",
       "      <td>M Chinnaswamy Stadium</td>\n",
       "      <td>223.0</td>\n",
       "      <td>N</td>\n",
       "      <td>Kolkata Knight Riders</td>\n",
       "      <td>2</td>\n",
       "      <td>Royal Challengers Bengaluru</td>\n",
       "      <td>Kolkata Knight Riders</td>\n",
       "      <td>0</td>\n",
       "      <td>3</td>\n",
       "      <td>0</td>\n",
       "      <td>0</td>\n",
       "      <td>2</td>\n",
       "      <td>20</td>\n",
       "      <td>221.0</td>\n",
       "      <td>10</td>\n",
       "      <td>117</td>\n",
       "    </tr>\n",
       "    <tr>\n",
       "      <th>127</th>\n",
       "      <td>335982</td>\n",
       "      <td>Bangalore</td>\n",
       "      <td>M Chinnaswamy Stadium</td>\n",
       "      <td>223.0</td>\n",
       "      <td>N</td>\n",
       "      <td>Kolkata Knight Riders</td>\n",
       "      <td>2</td>\n",
       "      <td>Royal Challengers Bengaluru</td>\n",
       "      <td>Kolkata Knight Riders</td>\n",
       "      <td>0</td>\n",
       "      <td>4</td>\n",
       "      <td>1</td>\n",
       "      <td>0</td>\n",
       "      <td>3</td>\n",
       "      <td>20</td>\n",
       "      <td>220.0</td>\n",
       "      <td>10</td>\n",
       "      <td>116</td>\n",
       "    </tr>\n",
       "    <tr>\n",
       "      <th>128</th>\n",
       "      <td>335982</td>\n",
       "      <td>Bangalore</td>\n",
       "      <td>M Chinnaswamy Stadium</td>\n",
       "      <td>223.0</td>\n",
       "      <td>N</td>\n",
       "      <td>Kolkata Knight Riders</td>\n",
       "      <td>2</td>\n",
       "      <td>Royal Challengers Bengaluru</td>\n",
       "      <td>Kolkata Knight Riders</td>\n",
       "      <td>0</td>\n",
       "      <td>5</td>\n",
       "      <td>1</td>\n",
       "      <td>0</td>\n",
       "      <td>4</td>\n",
       "      <td>20</td>\n",
       "      <td>219.0</td>\n",
       "      <td>10</td>\n",
       "      <td>115</td>\n",
       "    </tr>\n",
       "  </tbody>\n",
       "</table>\n",
       "</div>"
      ],
      "text/plain": [
       "     match_id       city                  venue  target_runs super_over  \\\n",
       "124    335982  Bangalore  M Chinnaswamy Stadium        223.0          N   \n",
       "125    335982  Bangalore  M Chinnaswamy Stadium        223.0          N   \n",
       "126    335982  Bangalore  M Chinnaswamy Stadium        223.0          N   \n",
       "127    335982  Bangalore  M Chinnaswamy Stadium        223.0          N   \n",
       "128    335982  Bangalore  M Chinnaswamy Stadium        223.0          N   \n",
       "\n",
       "                    winner  inning                 batting_team  \\\n",
       "124  Kolkata Knight Riders       2  Royal Challengers Bengaluru   \n",
       "125  Kolkata Knight Riders       2  Royal Challengers Bengaluru   \n",
       "126  Kolkata Knight Riders       2  Royal Challengers Bengaluru   \n",
       "127  Kolkata Knight Riders       2  Royal Challengers Bengaluru   \n",
       "128  Kolkata Knight Riders       2  Royal Challengers Bengaluru   \n",
       "\n",
       "              bowling_team  over  ball  total_runs  wickets_out  \\\n",
       "124  Kolkata Knight Riders     0     1           1            0   \n",
       "125  Kolkata Knight Riders     0     2           1            0   \n",
       "126  Kolkata Knight Riders     0     3           0            0   \n",
       "127  Kolkata Knight Riders     0     4           1            0   \n",
       "128  Kolkata Knight Riders     0     5           1            0   \n",
       "\n",
       "     current_score  over_completed  run_left  wickets_left  ball_left  \n",
       "124              1              20     222.0            10        119  \n",
       "125              2              20     221.0            10        118  \n",
       "126              2              20     221.0            10        117  \n",
       "127              3              20     220.0            10        116  \n",
       "128              4              20     219.0            10        115  "
      ]
     },
     "execution_count": 263,
     "metadata": {},
     "output_type": "execute_result"
    }
   ],
   "source": [
    "ipl.head()"
   ]
  },
  {
   "cell_type": "code",
   "execution_count": 264,
   "id": "035288ca-4ebc-4219-a757-a87c16e7d0a4",
   "metadata": {},
   "outputs": [],
   "source": [
    "def result(row):\n",
    "    return 1 if row['batting_team'] == row['winner'] else 0\n"
   ]
  },
  {
   "cell_type": "code",
   "execution_count": 265,
   "id": "96a805f8-9258-4dff-9f6e-62ee73329700",
   "metadata": {},
   "outputs": [],
   "source": [
    "ipl['result'] = ipl.apply(result, axis=1)"
   ]
  },
  {
   "cell_type": "code",
   "execution_count": 266,
   "id": "265999da-f479-4cc3-a2a8-0824e695b346",
   "metadata": {},
   "outputs": [
    {
     "name": "stdout",
     "output_type": "stream",
     "text": [
      "<class 'pandas.core.frame.DataFrame'>\n",
      "Index: 69739 entries, 124 to 260919\n",
      "Data columns (total 19 columns):\n",
      " #   Column          Non-Null Count  Dtype  \n",
      "---  ------          --------------  -----  \n",
      " 0   match_id        69739 non-null  int64  \n",
      " 1   city            69739 non-null  object \n",
      " 2   venue           69739 non-null  object \n",
      " 3   target_runs     69739 non-null  float64\n",
      " 4   super_over      69739 non-null  object \n",
      " 5   winner          69739 non-null  object \n",
      " 6   inning          69739 non-null  int64  \n",
      " 7   batting_team    69739 non-null  object \n",
      " 8   bowling_team    69739 non-null  object \n",
      " 9   over            69739 non-null  int64  \n",
      " 10  ball            69739 non-null  int64  \n",
      " 11  total_runs      69739 non-null  int64  \n",
      " 12  wickets_out     69739 non-null  int64  \n",
      " 13  current_score   69739 non-null  int64  \n",
      " 14  over_completed  69739 non-null  int64  \n",
      " 15  run_left        69739 non-null  float64\n",
      " 16  wickets_left    69739 non-null  int64  \n",
      " 17  ball_left       69739 non-null  int64  \n",
      " 18  result          69739 non-null  int64  \n",
      "dtypes: float64(2), int64(11), object(6)\n",
      "memory usage: 10.6+ MB\n"
     ]
    }
   ],
   "source": [
    "ipl.info()"
   ]
  },
  {
   "cell_type": "code",
   "execution_count": 267,
   "id": "4462813d-e421-4902-b4ab-115c7fdad430",
   "metadata": {},
   "outputs": [],
   "source": [
    "ipl['crr'] = (ipl['current_score']*6) / (120 - ipl['ball_left'])"
   ]
  },
  {
   "cell_type": "code",
   "execution_count": 268,
   "id": "f976bcdf-bdc0-44dd-bfff-675529828945",
   "metadata": {},
   "outputs": [
    {
     "data": {
      "text/html": [
       "<div>\n",
       "<style scoped>\n",
       "    .dataframe tbody tr th:only-of-type {\n",
       "        vertical-align: middle;\n",
       "    }\n",
       "\n",
       "    .dataframe tbody tr th {\n",
       "        vertical-align: top;\n",
       "    }\n",
       "\n",
       "    .dataframe thead th {\n",
       "        text-align: right;\n",
       "    }\n",
       "</style>\n",
       "<table border=\"1\" class=\"dataframe\">\n",
       "  <thead>\n",
       "    <tr style=\"text-align: right;\">\n",
       "      <th></th>\n",
       "      <th>match_id</th>\n",
       "      <th>target_runs</th>\n",
       "      <th>inning</th>\n",
       "      <th>over</th>\n",
       "      <th>ball</th>\n",
       "      <th>total_runs</th>\n",
       "      <th>wickets_out</th>\n",
       "      <th>current_score</th>\n",
       "      <th>over_completed</th>\n",
       "      <th>run_left</th>\n",
       "      <th>wickets_left</th>\n",
       "      <th>ball_left</th>\n",
       "      <th>result</th>\n",
       "      <th>crr</th>\n",
       "    </tr>\n",
       "  </thead>\n",
       "  <tbody>\n",
       "    <tr>\n",
       "      <th>count</th>\n",
       "      <td>6.973900e+04</td>\n",
       "      <td>69739.000000</td>\n",
       "      <td>69739.0</td>\n",
       "      <td>69739.000000</td>\n",
       "      <td>69739.000000</td>\n",
       "      <td>69739.000000</td>\n",
       "      <td>69739.000000</td>\n",
       "      <td>69739.000000</td>\n",
       "      <td>69739.000000</td>\n",
       "      <td>69739.000000</td>\n",
       "      <td>69739.000000</td>\n",
       "      <td>69739.000000</td>\n",
       "      <td>69739.000000</td>\n",
       "      <td>69739.000000</td>\n",
       "    </tr>\n",
       "    <tr>\n",
       "      <th>mean</th>\n",
       "      <td>1.008886e+06</td>\n",
       "      <td>171.864624</td>\n",
       "      <td>2.0</td>\n",
       "      <td>8.956266</td>\n",
       "      <td>3.616900</td>\n",
       "      <td>1.336139</td>\n",
       "      <td>2.536802</td>\n",
       "      <td>75.747243</td>\n",
       "      <td>11.043734</td>\n",
       "      <td>96.117381</td>\n",
       "      <td>7.463198</td>\n",
       "      <td>116.383100</td>\n",
       "      <td>0.384032</td>\n",
       "      <td>179.211837</td>\n",
       "    </tr>\n",
       "    <tr>\n",
       "      <th>std</th>\n",
       "      <td>3.676553e+05</td>\n",
       "      <td>32.000411</td>\n",
       "      <td>0.0</td>\n",
       "      <td>5.565416</td>\n",
       "      <td>1.815755</td>\n",
       "      <td>1.638000</td>\n",
       "      <td>2.214605</td>\n",
       "      <td>48.399640</td>\n",
       "      <td>5.565416</td>\n",
       "      <td>51.700570</td>\n",
       "      <td>2.214605</td>\n",
       "      <td>1.815755</td>\n",
       "      <td>0.486369</td>\n",
       "      <td>188.736327</td>\n",
       "    </tr>\n",
       "    <tr>\n",
       "      <th>min</th>\n",
       "      <td>3.359820e+05</td>\n",
       "      <td>48.000000</td>\n",
       "      <td>2.0</td>\n",
       "      <td>0.000000</td>\n",
       "      <td>1.000000</td>\n",
       "      <td>0.000000</td>\n",
       "      <td>0.000000</td>\n",
       "      <td>0.000000</td>\n",
       "      <td>1.000000</td>\n",
       "      <td>-9.000000</td>\n",
       "      <td>0.000000</td>\n",
       "      <td>109.000000</td>\n",
       "      <td>0.000000</td>\n",
       "      <td>0.000000</td>\n",
       "    </tr>\n",
       "    <tr>\n",
       "      <th>25%</th>\n",
       "      <td>5.980580e+05</td>\n",
       "      <td>151.000000</td>\n",
       "      <td>2.0</td>\n",
       "      <td>4.000000</td>\n",
       "      <td>2.000000</td>\n",
       "      <td>0.000000</td>\n",
       "      <td>1.000000</td>\n",
       "      <td>35.000000</td>\n",
       "      <td>6.000000</td>\n",
       "      <td>56.000000</td>\n",
       "      <td>6.000000</td>\n",
       "      <td>115.000000</td>\n",
       "      <td>0.000000</td>\n",
       "      <td>58.800000</td>\n",
       "    </tr>\n",
       "    <tr>\n",
       "      <th>50%</th>\n",
       "      <td>1.175366e+06</td>\n",
       "      <td>171.000000</td>\n",
       "      <td>2.0</td>\n",
       "      <td>9.000000</td>\n",
       "      <td>4.000000</td>\n",
       "      <td>1.000000</td>\n",
       "      <td>2.000000</td>\n",
       "      <td>72.000000</td>\n",
       "      <td>11.000000</td>\n",
       "      <td>95.000000</td>\n",
       "      <td>8.000000</td>\n",
       "      <td>116.000000</td>\n",
       "      <td>0.000000</td>\n",
       "      <td>121.500000</td>\n",
       "    </tr>\n",
       "    <tr>\n",
       "      <th>75%</th>\n",
       "      <td>1.304101e+06</td>\n",
       "      <td>192.000000</td>\n",
       "      <td>2.0</td>\n",
       "      <td>14.000000</td>\n",
       "      <td>5.000000</td>\n",
       "      <td>1.000000</td>\n",
       "      <td>4.000000</td>\n",
       "      <td>112.000000</td>\n",
       "      <td>16.000000</td>\n",
       "      <td>134.000000</td>\n",
       "      <td>9.000000</td>\n",
       "      <td>118.000000</td>\n",
       "      <td>1.000000</td>\n",
       "      <td>222.000000</td>\n",
       "    </tr>\n",
       "    <tr>\n",
       "      <th>max</th>\n",
       "      <td>1.426312e+06</td>\n",
       "      <td>288.000000</td>\n",
       "      <td>2.0</td>\n",
       "      <td>19.000000</td>\n",
       "      <td>11.000000</td>\n",
       "      <td>7.000000</td>\n",
       "      <td>10.000000</td>\n",
       "      <td>262.000000</td>\n",
       "      <td>20.000000</td>\n",
       "      <td>287.000000</td>\n",
       "      <td>10.000000</td>\n",
       "      <td>119.000000</td>\n",
       "      <td>1.000000</td>\n",
       "      <td>1554.000000</td>\n",
       "    </tr>\n",
       "  </tbody>\n",
       "</table>\n",
       "</div>"
      ],
      "text/plain": [
       "           match_id   target_runs   inning          over          ball  \\\n",
       "count  6.973900e+04  69739.000000  69739.0  69739.000000  69739.000000   \n",
       "mean   1.008886e+06    171.864624      2.0      8.956266      3.616900   \n",
       "std    3.676553e+05     32.000411      0.0      5.565416      1.815755   \n",
       "min    3.359820e+05     48.000000      2.0      0.000000      1.000000   \n",
       "25%    5.980580e+05    151.000000      2.0      4.000000      2.000000   \n",
       "50%    1.175366e+06    171.000000      2.0      9.000000      4.000000   \n",
       "75%    1.304101e+06    192.000000      2.0     14.000000      5.000000   \n",
       "max    1.426312e+06    288.000000      2.0     19.000000     11.000000   \n",
       "\n",
       "         total_runs   wickets_out  current_score  over_completed  \\\n",
       "count  69739.000000  69739.000000   69739.000000    69739.000000   \n",
       "mean       1.336139      2.536802      75.747243       11.043734   \n",
       "std        1.638000      2.214605      48.399640        5.565416   \n",
       "min        0.000000      0.000000       0.000000        1.000000   \n",
       "25%        0.000000      1.000000      35.000000        6.000000   \n",
       "50%        1.000000      2.000000      72.000000       11.000000   \n",
       "75%        1.000000      4.000000     112.000000       16.000000   \n",
       "max        7.000000     10.000000     262.000000       20.000000   \n",
       "\n",
       "           run_left  wickets_left     ball_left        result           crr  \n",
       "count  69739.000000  69739.000000  69739.000000  69739.000000  69739.000000  \n",
       "mean      96.117381      7.463198    116.383100      0.384032    179.211837  \n",
       "std       51.700570      2.214605      1.815755      0.486369    188.736327  \n",
       "min       -9.000000      0.000000    109.000000      0.000000      0.000000  \n",
       "25%       56.000000      6.000000    115.000000      0.000000     58.800000  \n",
       "50%       95.000000      8.000000    116.000000      0.000000    121.500000  \n",
       "75%      134.000000      9.000000    118.000000      1.000000    222.000000  \n",
       "max      287.000000     10.000000    119.000000      1.000000   1554.000000  "
      ]
     },
     "execution_count": 268,
     "metadata": {},
     "output_type": "execute_result"
    }
   ],
   "source": [
    "ipl.describe()"
   ]
  },
  {
   "cell_type": "code",
   "execution_count": 269,
   "id": "0ab7376b-df5c-4cbb-bebc-ba5233dc1aa2",
   "metadata": {},
   "outputs": [],
   "source": [
    "ipl['rrr'] = (ipl['run_left']*6)/ipl['ball_left']"
   ]
  },
  {
   "cell_type": "code",
   "execution_count": 270,
   "id": "fea195ee-5925-4a37-8999-f049183e054f",
   "metadata": {},
   "outputs": [],
   "source": [
    "final_df = ipl[['batting_team','bowling_team','city','run_left',\n",
    "                        'ball_left','wickets_left','target_runs','crr','rrr','result']]"
   ]
  },
  {
   "cell_type": "code",
   "execution_count": 271,
   "id": "97592bcc-64e3-4c0e-8ed2-d96800df41b9",
   "metadata": {},
   "outputs": [],
   "source": [
    "final_df = final_df.sample(final_df.shape[0])"
   ]
  },
  {
   "cell_type": "code",
   "execution_count": 272,
   "id": "296c0256-afd3-486f-9dff-a60db1193c91",
   "metadata": {},
   "outputs": [],
   "source": [
    "X = final_df.iloc[:,:-1]\n",
    "y = final_df.iloc[:,-1]\n",
    "from sklearn.model_selection import train_test_split\n",
    "X_train,X_test,y_train,y_test = train_test_split(X,y,test_size=0.2,random_state=1)"
   ]
  },
  {
   "cell_type": "code",
   "execution_count": 273,
   "id": "72636182-5f4f-4e16-950f-e97e2c01f650",
   "metadata": {},
   "outputs": [
    {
     "data": {
      "text/html": [
       "<div>\n",
       "<style scoped>\n",
       "    .dataframe tbody tr th:only-of-type {\n",
       "        vertical-align: middle;\n",
       "    }\n",
       "\n",
       "    .dataframe tbody tr th {\n",
       "        vertical-align: top;\n",
       "    }\n",
       "\n",
       "    .dataframe thead th {\n",
       "        text-align: right;\n",
       "    }\n",
       "</style>\n",
       "<table border=\"1\" class=\"dataframe\">\n",
       "  <thead>\n",
       "    <tr style=\"text-align: right;\">\n",
       "      <th></th>\n",
       "      <th>batting_team</th>\n",
       "      <th>bowling_team</th>\n",
       "      <th>city</th>\n",
       "      <th>run_left</th>\n",
       "      <th>ball_left</th>\n",
       "      <th>wickets_left</th>\n",
       "      <th>target_runs</th>\n",
       "      <th>crr</th>\n",
       "      <th>rrr</th>\n",
       "    </tr>\n",
       "  </thead>\n",
       "  <tbody>\n",
       "    <tr>\n",
       "      <th>243749</th>\n",
       "      <td>Chennai Super Kings</td>\n",
       "      <td>Gujarat Titans</td>\n",
       "      <td>Ahmedabad</td>\n",
       "      <td>117.0</td>\n",
       "      <td>118</td>\n",
       "      <td>10</td>\n",
       "      <td>171.0</td>\n",
       "      <td>162.000000</td>\n",
       "      <td>5.949153</td>\n",
       "    </tr>\n",
       "    <tr>\n",
       "      <th>94700</th>\n",
       "      <td>Mumbai Indians</td>\n",
       "      <td>Kolkata Knight Riders</td>\n",
       "      <td>Abu Dhabi</td>\n",
       "      <td>140.0</td>\n",
       "      <td>117</td>\n",
       "      <td>10</td>\n",
       "      <td>164.0</td>\n",
       "      <td>48.000000</td>\n",
       "      <td>7.179487</td>\n",
       "    </tr>\n",
       "    <tr>\n",
       "      <th>206110</th>\n",
       "      <td>Royal Challengers Bengaluru</td>\n",
       "      <td>Sunrisers Hyderabad</td>\n",
       "      <td>Abu Dhabi</td>\n",
       "      <td>6.0</td>\n",
       "      <td>116</td>\n",
       "      <td>4</td>\n",
       "      <td>142.0</td>\n",
       "      <td>204.000000</td>\n",
       "      <td>0.310345</td>\n",
       "    </tr>\n",
       "    <tr>\n",
       "      <th>77543</th>\n",
       "      <td>Chennai Super Kings</td>\n",
       "      <td>Mumbai Indians</td>\n",
       "      <td>Chennai</td>\n",
       "      <td>83.0</td>\n",
       "      <td>113</td>\n",
       "      <td>6</td>\n",
       "      <td>149.0</td>\n",
       "      <td>56.571429</td>\n",
       "      <td>4.407080</td>\n",
       "    </tr>\n",
       "    <tr>\n",
       "      <th>94510</th>\n",
       "      <td>Chennai Super Kings</td>\n",
       "      <td>Mumbai Indians</td>\n",
       "      <td>Kolkata</td>\n",
       "      <td>75.0</td>\n",
       "      <td>119</td>\n",
       "      <td>2</td>\n",
       "      <td>149.0</td>\n",
       "      <td>444.000000</td>\n",
       "      <td>3.781513</td>\n",
       "    </tr>\n",
       "    <tr>\n",
       "      <th>...</th>\n",
       "      <td>...</td>\n",
       "      <td>...</td>\n",
       "      <td>...</td>\n",
       "      <td>...</td>\n",
       "      <td>...</td>\n",
       "      <td>...</td>\n",
       "      <td>...</td>\n",
       "      <td>...</td>\n",
       "      <td>...</td>\n",
       "    </tr>\n",
       "    <tr>\n",
       "      <th>77268</th>\n",
       "      <td>Delhi Capitals</td>\n",
       "      <td>Rajasthan Royals</td>\n",
       "      <td>Delhi</td>\n",
       "      <td>107.0</td>\n",
       "      <td>118</td>\n",
       "      <td>9</td>\n",
       "      <td>166.0</td>\n",
       "      <td>177.000000</td>\n",
       "      <td>5.440678</td>\n",
       "    </tr>\n",
       "    <tr>\n",
       "      <th>83596</th>\n",
       "      <td>Chennai Super Kings</td>\n",
       "      <td>Rajasthan Royals</td>\n",
       "      <td>Chennai</td>\n",
       "      <td>0.0</td>\n",
       "      <td>115</td>\n",
       "      <td>5</td>\n",
       "      <td>186.0</td>\n",
       "      <td>223.200000</td>\n",
       "      <td>0.000000</td>\n",
       "    </tr>\n",
       "    <tr>\n",
       "      <th>218191</th>\n",
       "      <td>Punjab Kings</td>\n",
       "      <td>Lucknow Super Giants</td>\n",
       "      <td>Pune</td>\n",
       "      <td>51.0</td>\n",
       "      <td>119</td>\n",
       "      <td>5</td>\n",
       "      <td>154.0</td>\n",
       "      <td>618.000000</td>\n",
       "      <td>2.571429</td>\n",
       "    </tr>\n",
       "    <tr>\n",
       "      <th>113602</th>\n",
       "      <td>Royal Challengers Bengaluru</td>\n",
       "      <td>Chennai Super Kings</td>\n",
       "      <td>Bangalore</td>\n",
       "      <td>150.0</td>\n",
       "      <td>116</td>\n",
       "      <td>9</td>\n",
       "      <td>182.0</td>\n",
       "      <td>48.000000</td>\n",
       "      <td>7.758621</td>\n",
       "    </tr>\n",
       "    <tr>\n",
       "      <th>195771</th>\n",
       "      <td>Sunrisers Hyderabad</td>\n",
       "      <td>Mumbai Indians</td>\n",
       "      <td>Chennai</td>\n",
       "      <td>56.0</td>\n",
       "      <td>115</td>\n",
       "      <td>7</td>\n",
       "      <td>151.0</td>\n",
       "      <td>114.000000</td>\n",
       "      <td>2.921739</td>\n",
       "    </tr>\n",
       "  </tbody>\n",
       "</table>\n",
       "<p>55791 rows × 9 columns</p>\n",
       "</div>"
      ],
      "text/plain": [
       "                       batting_team           bowling_team       city  \\\n",
       "243749          Chennai Super Kings         Gujarat Titans  Ahmedabad   \n",
       "94700                Mumbai Indians  Kolkata Knight Riders  Abu Dhabi   \n",
       "206110  Royal Challengers Bengaluru    Sunrisers Hyderabad  Abu Dhabi   \n",
       "77543           Chennai Super Kings         Mumbai Indians    Chennai   \n",
       "94510           Chennai Super Kings         Mumbai Indians    Kolkata   \n",
       "...                             ...                    ...        ...   \n",
       "77268                Delhi Capitals       Rajasthan Royals      Delhi   \n",
       "83596           Chennai Super Kings       Rajasthan Royals    Chennai   \n",
       "218191                 Punjab Kings   Lucknow Super Giants       Pune   \n",
       "113602  Royal Challengers Bengaluru    Chennai Super Kings  Bangalore   \n",
       "195771          Sunrisers Hyderabad         Mumbai Indians    Chennai   \n",
       "\n",
       "        run_left  ball_left  wickets_left  target_runs         crr       rrr  \n",
       "243749     117.0        118            10        171.0  162.000000  5.949153  \n",
       "94700      140.0        117            10        164.0   48.000000  7.179487  \n",
       "206110       6.0        116             4        142.0  204.000000  0.310345  \n",
       "77543       83.0        113             6        149.0   56.571429  4.407080  \n",
       "94510       75.0        119             2        149.0  444.000000  3.781513  \n",
       "...          ...        ...           ...          ...         ...       ...  \n",
       "77268      107.0        118             9        166.0  177.000000  5.440678  \n",
       "83596        0.0        115             5        186.0  223.200000  0.000000  \n",
       "218191      51.0        119             5        154.0  618.000000  2.571429  \n",
       "113602     150.0        116             9        182.0   48.000000  7.758621  \n",
       "195771      56.0        115             7        151.0  114.000000  2.921739  \n",
       "\n",
       "[55791 rows x 9 columns]"
      ]
     },
     "execution_count": 273,
     "metadata": {},
     "output_type": "execute_result"
    }
   ],
   "source": [
    "X_train"
   ]
  },
  {
   "cell_type": "code",
   "execution_count": 274,
   "id": "e65de56b-c830-4913-af86-c63859df95e7",
   "metadata": {},
   "outputs": [],
   "source": [
    "from sklearn.compose import ColumnTransformer\n",
    "from sklearn.preprocessing import OneHotEncoder\n",
    "\n",
    "trf = ColumnTransformer([\n",
    "    ('trf',OneHotEncoder(sparse=False,drop='first'),['batting_team','bowling_team','city'])\n",
    "]\n",
    ",remainder='passthrough')"
   ]
  },
  {
   "cell_type": "code",
   "execution_count": 275,
   "id": "72b33c25-0b29-47a6-84e2-6b190a3b0bff",
   "metadata": {},
   "outputs": [],
   "source": [
    "from sklearn.linear_model import LogisticRegression\n",
    "from sklearn.ensemble import RandomForestClassifier\n",
    "from sklearn.pipeline import Pipeline"
   ]
  },
  {
   "cell_type": "code",
   "execution_count": 276,
   "id": "05d8abd3-4821-4837-8170-14ccd3acf779",
   "metadata": {},
   "outputs": [],
   "source": [
    "pipe = Pipeline(steps=[\n",
    "    ('step1',trf),\n",
    "    ('step2',LogisticRegression(solver='liblinear'))\n",
    "])"
   ]
  },
  {
   "cell_type": "code",
   "execution_count": 277,
   "id": "80bae58d-5e40-46a0-8ae9-afa6f6563c4c",
   "metadata": {},
   "outputs": [
    {
     "data": {
      "text/html": [
       "<style>#sk-container-id-2 {color: black;}#sk-container-id-2 pre{padding: 0;}#sk-container-id-2 div.sk-toggleable {background-color: white;}#sk-container-id-2 label.sk-toggleable__label {cursor: pointer;display: block;width: 100%;margin-bottom: 0;padding: 0.3em;box-sizing: border-box;text-align: center;}#sk-container-id-2 label.sk-toggleable__label-arrow:before {content: \"▸\";float: left;margin-right: 0.25em;color: #696969;}#sk-container-id-2 label.sk-toggleable__label-arrow:hover:before {color: black;}#sk-container-id-2 div.sk-estimator:hover label.sk-toggleable__label-arrow:before {color: black;}#sk-container-id-2 div.sk-toggleable__content {max-height: 0;max-width: 0;overflow: hidden;text-align: left;background-color: #f0f8ff;}#sk-container-id-2 div.sk-toggleable__content pre {margin: 0.2em;color: black;border-radius: 0.25em;background-color: #f0f8ff;}#sk-container-id-2 input.sk-toggleable__control:checked~div.sk-toggleable__content {max-height: 200px;max-width: 100%;overflow: auto;}#sk-container-id-2 input.sk-toggleable__control:checked~label.sk-toggleable__label-arrow:before {content: \"▾\";}#sk-container-id-2 div.sk-estimator input.sk-toggleable__control:checked~label.sk-toggleable__label {background-color: #d4ebff;}#sk-container-id-2 div.sk-label input.sk-toggleable__control:checked~label.sk-toggleable__label {background-color: #d4ebff;}#sk-container-id-2 input.sk-hidden--visually {border: 0;clip: rect(1px 1px 1px 1px);clip: rect(1px, 1px, 1px, 1px);height: 1px;margin: -1px;overflow: hidden;padding: 0;position: absolute;width: 1px;}#sk-container-id-2 div.sk-estimator {font-family: monospace;background-color: #f0f8ff;border: 1px dotted black;border-radius: 0.25em;box-sizing: border-box;margin-bottom: 0.5em;}#sk-container-id-2 div.sk-estimator:hover {background-color: #d4ebff;}#sk-container-id-2 div.sk-parallel-item::after {content: \"\";width: 100%;border-bottom: 1px solid gray;flex-grow: 1;}#sk-container-id-2 div.sk-label:hover label.sk-toggleable__label {background-color: #d4ebff;}#sk-container-id-2 div.sk-serial::before {content: \"\";position: absolute;border-left: 1px solid gray;box-sizing: border-box;top: 0;bottom: 0;left: 50%;z-index: 0;}#sk-container-id-2 div.sk-serial {display: flex;flex-direction: column;align-items: center;background-color: white;padding-right: 0.2em;padding-left: 0.2em;position: relative;}#sk-container-id-2 div.sk-item {position: relative;z-index: 1;}#sk-container-id-2 div.sk-parallel {display: flex;align-items: stretch;justify-content: center;background-color: white;position: relative;}#sk-container-id-2 div.sk-item::before, #sk-container-id-2 div.sk-parallel-item::before {content: \"\";position: absolute;border-left: 1px solid gray;box-sizing: border-box;top: 0;bottom: 0;left: 50%;z-index: -1;}#sk-container-id-2 div.sk-parallel-item {display: flex;flex-direction: column;z-index: 1;position: relative;background-color: white;}#sk-container-id-2 div.sk-parallel-item:first-child::after {align-self: flex-end;width: 50%;}#sk-container-id-2 div.sk-parallel-item:last-child::after {align-self: flex-start;width: 50%;}#sk-container-id-2 div.sk-parallel-item:only-child::after {width: 0;}#sk-container-id-2 div.sk-dashed-wrapped {border: 1px dashed gray;margin: 0 0.4em 0.5em 0.4em;box-sizing: border-box;padding-bottom: 0.4em;background-color: white;}#sk-container-id-2 div.sk-label label {font-family: monospace;font-weight: bold;display: inline-block;line-height: 1.2em;}#sk-container-id-2 div.sk-label-container {text-align: center;}#sk-container-id-2 div.sk-container {/* jupyter's `normalize.less` sets `[hidden] { display: none; }` but bootstrap.min.css set `[hidden] { display: none !important; }` so we also need the `!important` here to be able to override the default hidden behavior on the sphinx rendered scikit-learn.org. See: https://github.com/scikit-learn/scikit-learn/issues/21755 */display: inline-block !important;position: relative;}#sk-container-id-2 div.sk-text-repr-fallback {display: none;}</style><div id=\"sk-container-id-2\" class=\"sk-top-container\"><div class=\"sk-text-repr-fallback\"><pre>Pipeline(steps=[(&#x27;step1&#x27;,\n",
       "                 ColumnTransformer(remainder=&#x27;passthrough&#x27;,\n",
       "                                   transformers=[(&#x27;trf&#x27;,\n",
       "                                                  OneHotEncoder(drop=&#x27;first&#x27;,\n",
       "                                                                sparse=False),\n",
       "                                                  [&#x27;batting_team&#x27;,\n",
       "                                                   &#x27;bowling_team&#x27;, &#x27;city&#x27;])])),\n",
       "                (&#x27;step2&#x27;, LogisticRegression(solver=&#x27;liblinear&#x27;))])</pre><b>In a Jupyter environment, please rerun this cell to show the HTML representation or trust the notebook. <br />On GitHub, the HTML representation is unable to render, please try loading this page with nbviewer.org.</b></div><div class=\"sk-container\" hidden><div class=\"sk-item sk-dashed-wrapped\"><div class=\"sk-label-container\"><div class=\"sk-label sk-toggleable\"><input class=\"sk-toggleable__control sk-hidden--visually\" id=\"sk-estimator-id-8\" type=\"checkbox\" ><label for=\"sk-estimator-id-8\" class=\"sk-toggleable__label sk-toggleable__label-arrow\">Pipeline</label><div class=\"sk-toggleable__content\"><pre>Pipeline(steps=[(&#x27;step1&#x27;,\n",
       "                 ColumnTransformer(remainder=&#x27;passthrough&#x27;,\n",
       "                                   transformers=[(&#x27;trf&#x27;,\n",
       "                                                  OneHotEncoder(drop=&#x27;first&#x27;,\n",
       "                                                                sparse=False),\n",
       "                                                  [&#x27;batting_team&#x27;,\n",
       "                                                   &#x27;bowling_team&#x27;, &#x27;city&#x27;])])),\n",
       "                (&#x27;step2&#x27;, LogisticRegression(solver=&#x27;liblinear&#x27;))])</pre></div></div></div><div class=\"sk-serial\"><div class=\"sk-item sk-dashed-wrapped\"><div class=\"sk-label-container\"><div class=\"sk-label sk-toggleable\"><input class=\"sk-toggleable__control sk-hidden--visually\" id=\"sk-estimator-id-9\" type=\"checkbox\" ><label for=\"sk-estimator-id-9\" class=\"sk-toggleable__label sk-toggleable__label-arrow\">step1: ColumnTransformer</label><div class=\"sk-toggleable__content\"><pre>ColumnTransformer(remainder=&#x27;passthrough&#x27;,\n",
       "                  transformers=[(&#x27;trf&#x27;,\n",
       "                                 OneHotEncoder(drop=&#x27;first&#x27;, sparse=False),\n",
       "                                 [&#x27;batting_team&#x27;, &#x27;bowling_team&#x27;, &#x27;city&#x27;])])</pre></div></div></div><div class=\"sk-parallel\"><div class=\"sk-parallel-item\"><div class=\"sk-item\"><div class=\"sk-label-container\"><div class=\"sk-label sk-toggleable\"><input class=\"sk-toggleable__control sk-hidden--visually\" id=\"sk-estimator-id-10\" type=\"checkbox\" ><label for=\"sk-estimator-id-10\" class=\"sk-toggleable__label sk-toggleable__label-arrow\">trf</label><div class=\"sk-toggleable__content\"><pre>[&#x27;batting_team&#x27;, &#x27;bowling_team&#x27;, &#x27;city&#x27;]</pre></div></div></div><div class=\"sk-serial\"><div class=\"sk-item\"><div class=\"sk-estimator sk-toggleable\"><input class=\"sk-toggleable__control sk-hidden--visually\" id=\"sk-estimator-id-11\" type=\"checkbox\" ><label for=\"sk-estimator-id-11\" class=\"sk-toggleable__label sk-toggleable__label-arrow\">OneHotEncoder</label><div class=\"sk-toggleable__content\"><pre>OneHotEncoder(drop=&#x27;first&#x27;, sparse=False)</pre></div></div></div></div></div></div><div class=\"sk-parallel-item\"><div class=\"sk-item\"><div class=\"sk-label-container\"><div class=\"sk-label sk-toggleable\"><input class=\"sk-toggleable__control sk-hidden--visually\" id=\"sk-estimator-id-12\" type=\"checkbox\" ><label for=\"sk-estimator-id-12\" class=\"sk-toggleable__label sk-toggleable__label-arrow\">remainder</label><div class=\"sk-toggleable__content\"><pre>[&#x27;run_left&#x27;, &#x27;ball_left&#x27;, &#x27;wickets_left&#x27;, &#x27;target_runs&#x27;, &#x27;crr&#x27;, &#x27;rrr&#x27;]</pre></div></div></div><div class=\"sk-serial\"><div class=\"sk-item\"><div class=\"sk-estimator sk-toggleable\"><input class=\"sk-toggleable__control sk-hidden--visually\" id=\"sk-estimator-id-13\" type=\"checkbox\" ><label for=\"sk-estimator-id-13\" class=\"sk-toggleable__label sk-toggleable__label-arrow\">passthrough</label><div class=\"sk-toggleable__content\"><pre>passthrough</pre></div></div></div></div></div></div></div></div><div class=\"sk-item\"><div class=\"sk-estimator sk-toggleable\"><input class=\"sk-toggleable__control sk-hidden--visually\" id=\"sk-estimator-id-14\" type=\"checkbox\" ><label for=\"sk-estimator-id-14\" class=\"sk-toggleable__label sk-toggleable__label-arrow\">LogisticRegression</label><div class=\"sk-toggleable__content\"><pre>LogisticRegression(solver=&#x27;liblinear&#x27;)</pre></div></div></div></div></div></div></div>"
      ],
      "text/plain": [
       "Pipeline(steps=[('step1',\n",
       "                 ColumnTransformer(remainder='passthrough',\n",
       "                                   transformers=[('trf',\n",
       "                                                  OneHotEncoder(drop='first',\n",
       "                                                                sparse=False),\n",
       "                                                  ['batting_team',\n",
       "                                                   'bowling_team', 'city'])])),\n",
       "                ('step2', LogisticRegression(solver='liblinear'))])"
      ]
     },
     "execution_count": 277,
     "metadata": {},
     "output_type": "execute_result"
    }
   ],
   "source": [
    "pipe.fit(X_train,y_train)"
   ]
  },
  {
   "cell_type": "code",
   "execution_count": 278,
   "id": "d258a81d-e7aa-4dcd-8378-d684b5f8bdfb",
   "metadata": {},
   "outputs": [],
   "source": [
    "y_pred = pipe.predict(X_test)"
   ]
  },
  {
   "cell_type": "code",
   "execution_count": 279,
   "id": "782afa47-29c3-470f-996c-942409a617fc",
   "metadata": {},
   "outputs": [
    {
     "data": {
      "text/plain": [
       "0.8229853742472039"
      ]
     },
     "execution_count": 279,
     "metadata": {},
     "output_type": "execute_result"
    }
   ],
   "source": [
    "from sklearn.metrics import accuracy_score\n",
    "accuracy_score(y_test,y_pred)"
   ]
  },
  {
   "cell_type": "code",
   "execution_count": 283,
   "id": "0d0a3109-bcfe-4a20-b57e-e6b569f48a71",
   "metadata": {},
   "outputs": [
    {
     "data": {
      "text/plain": [
       "array([0.72546385, 0.27453615])"
      ]
     },
     "execution_count": 283,
     "metadata": {},
     "output_type": "execute_result"
    }
   ],
   "source": [
    "pipe.predict_proba(X_test)[90]"
   ]
  },
  {
   "cell_type": "code",
   "execution_count": 281,
   "id": "9c76909d-1fa8-4b65-8a7b-a4a14140c740",
   "metadata": {},
   "outputs": [],
   "source": [
    "def match_summary(row):\n",
    "    print(\"Batting Team-\" + row['batting_team'] + \" | Bowling Team-\" + row['bowling_team'] + \" | Target- \" + str(row['target_runs']))\n",
    "    "
   ]
  },
  {
   "cell_type": "code",
   "execution_count": 282,
   "id": "4a57c492-db78-4840-ad56-3fd9d7353925",
   "metadata": {},
   "outputs": [
    {
     "data": {
      "text/plain": [
       "Index(['batting_team', 'bowling_team', 'city', 'run_left', 'ball_left',\n",
       "       'wickets_left', 'target_runs', 'crr', 'rrr', 'result'],\n",
       "      dtype='object')"
      ]
     },
     "execution_count": 282,
     "metadata": {},
     "output_type": "execute_result"
    }
   ],
   "source": [
    "final_df.columns"
   ]
  },
  {
   "cell_type": "code",
   "execution_count": null,
   "id": "30df7713-5419-4ef4-af6a-17389404c546",
   "metadata": {},
   "outputs": [],
   "source": []
  },
  {
   "cell_type": "code",
   "execution_count": null,
   "id": "a0b7823b-178d-4842-ab18-fc17e2c29460",
   "metadata": {},
   "outputs": [],
   "source": []
  },
  {
   "cell_type": "code",
   "execution_count": 285,
   "id": "86b0f50d-a1a9-4824-aa88-060b50c671c4",
   "metadata": {},
   "outputs": [],
   "source": [
    "import pickle\n",
    "pickle.dump(pipe,open('ipl.pkl','wb'))"
   ]
  },
  {
   "cell_type": "code",
   "execution_count": null,
   "id": "dd663e6a-c6d8-4399-8a5d-479af48dc76d",
   "metadata": {},
   "outputs": [],
   "source": []
  }
 ],
 "metadata": {
  "kernelspec": {
   "display_name": "Python 3 (ipykernel)",
   "language": "python",
   "name": "python3"
  },
  "language_info": {
   "codemirror_mode": {
    "name": "ipython",
    "version": 3
   },
   "file_extension": ".py",
   "mimetype": "text/x-python",
   "name": "python",
   "nbconvert_exporter": "python",
   "pygments_lexer": "ipython3",
   "version": "3.11.5"
  }
 },
 "nbformat": 4,
 "nbformat_minor": 5
}
